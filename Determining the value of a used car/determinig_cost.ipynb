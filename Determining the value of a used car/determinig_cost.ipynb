{
 "cells": [
  {
   "cell_type": "markdown",
   "id": "abe9e4f4",
   "metadata": {},
   "source": [
    "# Описание задачи"
   ]
  },
  {
   "cell_type": "markdown",
   "id": "5e020778",
   "metadata": {},
   "source": [
    "Многие знают про маркетплейсы где продаются б/у вещи, на которых есть возможность недорого купить качественную и полезную вещь. Но всегда волнует вопрос - кто и как устанавливает цену, и какие его характеристики больше всего влияют на итоговую стоимость продажи?! Вопрос становиться особо актуальным, если речь идет про дорогие товары, например про автомобили!\n",
    "\n",
    "В данном проекте мы будем работать с данными о продажах автомобилей на вторичном рынке c платформы Kaggle (https://www.kaggle.com/competitions/used-cars-price-prediction-19ds/overview). Целью нашего проекта будет разработанная модель предсказания стоимости автомобиля на вторичном рынке."
   ]
  },
  {
   "cell_type": "markdown",
   "id": "d9dcd2fc",
   "metadata": {},
   "source": [
    "# Основные этапы исследования"
   ]
  },
  {
   "cell_type": "markdown",
   "id": "85e86fe0",
   "metadata": {},
   "source": [
    "- загрузка и ознакомление с данными,\n",
    "- предварительная обработка,\n",
    "- полноценный разведочный анализ,\n",
    "- разработка новых синтетических признаков,\n",
    "- проверка на мультиколлинеарность,\n",
    "- отбор финального набора обучающих признаков,\n",
    "- выбор и обучение моделей,\n",
    "- итоговая оценка качества предсказания лучшей модели,\n",
    "- анализ важности ее признаков."
   ]
  },
  {
   "cell_type": "markdown",
   "id": "03afbce8",
   "metadata": {},
   "source": [
    "# Метрика качества"
   ]
  },
  {
   "attachments": {
    "image.png": {
     "image/png": "[encoded data removed]"
    }
   },
   "cell_type": "markdown",
   "id": "3f207d97",
   "metadata": {},
   "source": [
    "Работа вашей модели будет оцениваться по метрике MAPE (Mean Absolute Percentage Error)\n",
    "![image.png](attachment:image.png)"
   ]
  },
  {
   "cell_type": "markdown",
   "id": "16c9a8f0",
   "metadata": {},
   "source": [
    "# Данные"
   ]
  },
  {
   "cell_type": "markdown",
   "id": "5c0a7481",
   "metadata": {},
   "source": [
    "- **train.csv** - информация о характеристиках автомобилей (~440000), которые будут использоваться в качестве обучающих данных.\n",
    "- **test.csv** - информация о характеристиках автомобилей (~110000), которые будут использоваться в качестве тестовых данных. Ваша задача - предсказать значение 'sellingprice' для каждого автомобиля из этого датасета.\n",
    "- **sample_submission.csv** - пример файла предсказаний в правильном формате.\n",
    "- **vin** - идентификатор автомобиля в тестовом наборе.\n",
    "- **sellingprice** - Целевой признак. Для каждого автомобиля предскажите числовое значение стоимости продажи."
   ]
  },
  {
   "cell_type": "markdown",
   "id": "a3ebd686",
   "metadata": {},
   "source": [
    "# Описание полей данных"
   ]
  },
  {
   "cell_type": "markdown",
   "id": "7cecce00",
   "metadata": {},
   "source": [
    "- **Date**: Год выпуска автомобиля.\n",
    "- **Make**: Марка автомобиля.\n",
    "- **Model**: издание автомобиля определенной марки.\n",
    "- **Trim**: Уровни отделки салона автомобиля — это просто разные версии модели.\n",
    "- **Body**: Тип кузова транспортного средства относится к форме и модели конкретной марки автомобиля.\n",
    "- **Transmission**: механизм, который передает мощность от двигателя к колесам.\n",
    "- **VIN**: идентификационный номер транспортного средства.\n",
    "- **State**: состояние, в котором автомобиль выставлен на аукцион.\n",
    "- **Condition**: Состояние автомобилей на момент аукциона.\n",
    "- **Odometer**: расстояние, пройденное автомобилем с момента выпуска.\n",
    "- **Color**: Цвет кузова автомобиля.\n",
    "- **Interior**: Цвет салона автомобиля.\n",
    "- **Seller**: Продавец автомобиля, автосалоны.\n",
    "- **mmr**: Рекорд рынка Manhiem, рыночная оценочная цена автомобилей.\n",
    "- **sellingprice**: цена, по которой автомобиль был продан на аукционе.\n",
    "- **saledate**: Дата продажи автомобиля."
   ]
  },
  {
   "cell_type": "markdown",
   "id": "aa0f28da-a9f8-426b-bd00-751a4748832c",
   "metadata": {},
   "source": [
    "# План работы\r\n",
    "\r\n",
    "- 1 Импорт библиотек\r\n",
    "- 2 Первый взгляд на данные\r\n",
    "- 3 Обработка данных и приведение их к нужному типу\r\n",
    "  - 3.1 Приведение всех записей к нижнему регистру и устранение невидимых дубликатов\r\n",
    "  - 3.2 Добавление столбцов по saledate\r\n",
    "  - 3.3 Добавление столбцов по vin-номеру\r\n",
    "- 4 Обработка пропусков\r\n",
    "  - 4.1 Обработка категориальных пропусков\r\n",
    "  - 4.2 Числовые пропуски\r\n",
    "- 5 Анализ на мультиколлинеарность\r\n",
    "- 6 Построение модели\r\n",
    "  - 6.1 Кодирование признаков\r\n",
    "  - 6.2 Модель линейной регрессии\r\n",
    "  - 6.3 Дерево решений\r\n",
    "  - 6.4 Лес решений\r\n",
    "  - 6.5 Catboost\r\n",
    "- 7 Подведение итогов\r\n"
   ]
  },
  {
   "cell_type": "markdown",
   "id": "88629144-733b-4e40-b4a0-2f3b3e54c84e",
   "metadata": {},
   "source": [
    "## Анализ данных"
   ]
  },
  {
   "cell_type": "markdown",
   "id": "15c0c1ae",
   "metadata": {},
   "source": [
    "### Импорт библиотек"
   ]
  },
  {
   "cell_type": "code",
   "execution_count": 1,
   "id": "4d478c77",
   "metadata": {},
   "outputs": [],
   "source": [
    "#анализ данных\n",
    "import pandas as pd\n",
    "import matplotlib.pyplot as plt\n",
    "import numpy as np\n",
    "import seaborn as sns\n",
    "import missingno as msno\n",
    "\n",
    "#заполнение пропусков\n",
    "from sklearn.impute import SimpleImputer, KNNImputer\n",
    "\n",
    "#разделение и энкодинг данных\n",
    "from sklearn.model_selection import train_test_split\n",
    "from sklearn.preprocessing import OneHotEncoder, StandardScaler, LabelEncoder, OrdinalEncoder\n",
    "\n",
    "#ML-модели\n",
    "from sklearn.linear_model import LinearRegression\n",
    "from sklearn.tree import DecisionTreeRegressor\n",
    "from sklearn.ensemble import RandomForestRegressor\n",
    "from catboost import Pool, CatBoostRegressor\n",
    "\n",
    "#метрикик\n",
    "from sklearn.metrics import make_scorer, mean_absolute_percentage_error as MAPE\n",
    "\n",
    "import warnings\n",
    "import bisect"
   ]
  },
  {
   "cell_type": "markdown",
   "id": "c031d8a1",
   "metadata": {},
   "source": [
    "### Первый взгляд на данные"
   ]
  },
  {
   "cell_type": "code",
   "execution_count": 2,
   "id": "c291e152",
   "metadata": {},
   "outputs": [],
   "source": [
    "train = pd.read_csv('train.csv')\n",
    "test = pd.read_csv('test.csv')"
   ]
  },
  {
   "cell_type": "code",
   "execution_count": 3,
   "id": "6b92f9e5",
   "metadata": {},
   "outputs": [
    {
     "data": {
      "text/html": [
       "<div>\n",
       "<style scoped>\n",
       "    .dataframe tbody tr th:only-of-type {\n",
       "        vertical-align: middle;\n",
       "    }\n",
       "\n",
       "    .dataframe tbody tr th {\n",
       "        vertical-align: top;\n",
       "    }\n",
       "\n",
       "    .dataframe thead th {\n",
       "        text-align: right;\n",
       "    }\n",
       "</style>\n",
       "<table border=\"1\" class=\"dataframe\">\n",
       "  <thead>\n",
       "    <tr style=\"text-align: right;\">\n",
       "      <th></th>\n",
       "      <th>year</th>\n",
       "      <th>make</th>\n",
       "      <th>model</th>\n",
       "      <th>trim</th>\n",
       "      <th>body</th>\n",
       "      <th>transmission</th>\n",
       "      <th>vin</th>\n",
       "      <th>state</th>\n",
       "      <th>condition</th>\n",
       "      <th>odometer</th>\n",
       "      <th>color</th>\n",
       "      <th>interior</th>\n",
       "      <th>seller</th>\n",
       "      <th>sellingprice</th>\n",
       "      <th>saledate</th>\n",
       "    </tr>\n",
       "  </thead>\n",
       "  <tbody>\n",
       "    <tr>\n",
       "      <th>0</th>\n",
       "      <td>2011</td>\n",
       "      <td>Ford</td>\n",
       "      <td>Edge</td>\n",
       "      <td>SEL</td>\n",
       "      <td>suv</td>\n",
       "      <td>automatic</td>\n",
       "      <td>2fmdk3jc4bba41556</td>\n",
       "      <td>md</td>\n",
       "      <td>4.2</td>\n",
       "      <td>111041.0</td>\n",
       "      <td>black</td>\n",
       "      <td>black</td>\n",
       "      <td>santander consumer</td>\n",
       "      <td>12500</td>\n",
       "      <td>Tue Jun 02 2015 02:30:00 GMT-0700 (PDT)</td>\n",
       "    </tr>\n",
       "    <tr>\n",
       "      <th>1</th>\n",
       "      <td>2014</td>\n",
       "      <td>Ford</td>\n",
       "      <td>Fusion</td>\n",
       "      <td>SE</td>\n",
       "      <td>Sedan</td>\n",
       "      <td>automatic</td>\n",
       "      <td>3fa6p0h75er208976</td>\n",
       "      <td>mo</td>\n",
       "      <td>3.5</td>\n",
       "      <td>31034.0</td>\n",
       "      <td>black</td>\n",
       "      <td>black</td>\n",
       "      <td>ars/avis budget group</td>\n",
       "      <td>14500</td>\n",
       "      <td>Wed Feb 25 2015 02:00:00 GMT-0800 (PST)</td>\n",
       "    </tr>\n",
       "    <tr>\n",
       "      <th>2</th>\n",
       "      <td>2012</td>\n",
       "      <td>Nissan</td>\n",
       "      <td>Sentra</td>\n",
       "      <td>2.0 SL</td>\n",
       "      <td>sedan</td>\n",
       "      <td>automatic</td>\n",
       "      <td>3n1ab6ap4cl698412</td>\n",
       "      <td>nj</td>\n",
       "      <td>2.2</td>\n",
       "      <td>35619.0</td>\n",
       "      <td>black</td>\n",
       "      <td>black</td>\n",
       "      <td>nissan-infiniti lt</td>\n",
       "      <td>9100</td>\n",
       "      <td>Wed Jun 10 2015 02:30:00 GMT-0700 (PDT)</td>\n",
       "    </tr>\n",
       "    <tr>\n",
       "      <th>3</th>\n",
       "      <td>2003</td>\n",
       "      <td>HUMMER</td>\n",
       "      <td>H2</td>\n",
       "      <td>Base</td>\n",
       "      <td>suv</td>\n",
       "      <td>automatic</td>\n",
       "      <td>5grgn23u93h101360</td>\n",
       "      <td>tx</td>\n",
       "      <td>2.8</td>\n",
       "      <td>131301.0</td>\n",
       "      <td>gold</td>\n",
       "      <td>beige</td>\n",
       "      <td>wichita falls ford lin inc</td>\n",
       "      <td>13300</td>\n",
       "      <td>Wed Jun 17 2015 03:00:00 GMT-0700 (PDT)</td>\n",
       "    </tr>\n",
       "    <tr>\n",
       "      <th>4</th>\n",
       "      <td>2007</td>\n",
       "      <td>Ford</td>\n",
       "      <td>Fusion</td>\n",
       "      <td>SEL</td>\n",
       "      <td>Sedan</td>\n",
       "      <td>automatic</td>\n",
       "      <td>3fahp08z17r268380</td>\n",
       "      <td>md</td>\n",
       "      <td>2.0</td>\n",
       "      <td>127709.0</td>\n",
       "      <td>black</td>\n",
       "      <td>black</td>\n",
       "      <td>purple heart</td>\n",
       "      <td>1300</td>\n",
       "      <td>Tue Feb 03 2015 04:00:00 GMT-0800 (PST)</td>\n",
       "    </tr>\n",
       "    <tr>\n",
       "      <th>5</th>\n",
       "      <td>2013</td>\n",
       "      <td>Lincoln</td>\n",
       "      <td>MKZ</td>\n",
       "      <td>Base</td>\n",
       "      <td>Sedan</td>\n",
       "      <td>automatic</td>\n",
       "      <td>3ln6l2j91dr817800</td>\n",
       "      <td>mi</td>\n",
       "      <td>2.5</td>\n",
       "      <td>14894.0</td>\n",
       "      <td>black</td>\n",
       "      <td>black</td>\n",
       "      <td>ford motor credit company,llc</td>\n",
       "      <td>22600</td>\n",
       "      <td>Thu May 21 2015 02:00:00 GMT-0700 (PDT)</td>\n",
       "    </tr>\n",
       "    <tr>\n",
       "      <th>6</th>\n",
       "      <td>2010</td>\n",
       "      <td>pontiac</td>\n",
       "      <td>g6</td>\n",
       "      <td>4c</td>\n",
       "      <td>NaN</td>\n",
       "      <td>automatic</td>\n",
       "      <td>1g2za5eb4a4157380</td>\n",
       "      <td>nc</td>\n",
       "      <td>3.4</td>\n",
       "      <td>114587.0</td>\n",
       "      <td>silver</td>\n",
       "      <td>black</td>\n",
       "      <td>north state acceptance</td>\n",
       "      <td>5900</td>\n",
       "      <td>Mon Jan 12 2015 09:30:00 GMT-0800 (PST)</td>\n",
       "    </tr>\n",
       "    <tr>\n",
       "      <th>7</th>\n",
       "      <td>2013</td>\n",
       "      <td>Ford</td>\n",
       "      <td>Escape</td>\n",
       "      <td>SE</td>\n",
       "      <td>SUV</td>\n",
       "      <td>automatic</td>\n",
       "      <td>1fmcu0gx3duc59421</td>\n",
       "      <td>fl</td>\n",
       "      <td>4.8</td>\n",
       "      <td>26273.0</td>\n",
       "      <td>blue</td>\n",
       "      <td>gray</td>\n",
       "      <td>fields bmw</td>\n",
       "      <td>15200</td>\n",
       "      <td>Tue Feb 03 2015 01:00:00 GMT-0800 (PST)</td>\n",
       "    </tr>\n",
       "    <tr>\n",
       "      <th>8</th>\n",
       "      <td>2000</td>\n",
       "      <td>Hyundai</td>\n",
       "      <td>Elantra</td>\n",
       "      <td>GLS</td>\n",
       "      <td>Sedan</td>\n",
       "      <td>automatic</td>\n",
       "      <td>kmhjf35f2yu955691</td>\n",
       "      <td>oh</td>\n",
       "      <td>1.9</td>\n",
       "      <td>182624.0</td>\n",
       "      <td>black</td>\n",
       "      <td>tan</td>\n",
       "      <td>dt inventory</td>\n",
       "      <td>700</td>\n",
       "      <td>Thu Jan 22 2015 01:00:00 GMT-0800 (PST)</td>\n",
       "    </tr>\n",
       "    <tr>\n",
       "      <th>9</th>\n",
       "      <td>2005</td>\n",
       "      <td>Ford</td>\n",
       "      <td>Freestyle</td>\n",
       "      <td>Limited</td>\n",
       "      <td>wagon</td>\n",
       "      <td>automatic</td>\n",
       "      <td>1fmdk06135ga45438</td>\n",
       "      <td>oh</td>\n",
       "      <td>1.0</td>\n",
       "      <td>149364.0</td>\n",
       "      <td>black</td>\n",
       "      <td>tan</td>\n",
       "      <td>wells fargo dealer services</td>\n",
       "      <td>325</td>\n",
       "      <td>Tue Jun 16 2015 05:00:00 GMT-0700 (PDT)</td>\n",
       "    </tr>\n",
       "  </tbody>\n",
       "</table>\n",
       "</div>"
      ],
      "text/plain": [
       "   year     make      model     trim   body transmission                vin  \\\n",
       "0  2011     Ford       Edge      SEL    suv    automatic  2fmdk3jc4bba41556   \n",
       "1  2014     Ford     Fusion       SE  Sedan    automatic  3fa6p0h75er208976   \n",
       "2  2012   Nissan     Sentra   2.0 SL  sedan    automatic  3n1ab6ap4cl698412   \n",
       "3  2003   HUMMER         H2     Base    suv    automatic  5grgn23u93h101360   \n",
       "4  2007     Ford     Fusion      SEL  Sedan    automatic  3fahp08z17r268380   \n",
       "5  2013  Lincoln        MKZ     Base  Sedan    automatic  3ln6l2j91dr817800   \n",
       "6  2010  pontiac         g6       4c    NaN    automatic  1g2za5eb4a4157380   \n",
       "7  2013     Ford     Escape       SE    SUV    automatic  1fmcu0gx3duc59421   \n",
       "8  2000  Hyundai    Elantra      GLS  Sedan    automatic  kmhjf35f2yu955691   \n",
       "9  2005     Ford  Freestyle  Limited  wagon    automatic  1fmdk06135ga45438   \n",
       "\n",
       "  state  condition  odometer   color interior                         seller  \\\n",
       "0    md        4.2  111041.0   black    black             santander consumer   \n",
       "1    mo        3.5   31034.0   black    black          ars/avis budget group   \n",
       "2    nj        2.2   35619.0   black    black             nissan-infiniti lt   \n",
       "3    tx        2.8  131301.0    gold    beige     wichita falls ford lin inc   \n",
       "4    md        2.0  127709.0   black    black                   purple heart   \n",
       "5    mi        2.5   14894.0   black    black  ford motor credit company,llc   \n",
       "6    nc        3.4  114587.0  silver    black         north state acceptance   \n",
       "7    fl        4.8   26273.0    blue     gray                     fields bmw   \n",
       "8    oh        1.9  182624.0   black      tan                   dt inventory   \n",
       "9    oh        1.0  149364.0   black      tan    wells fargo dealer services   \n",
       "\n",
       "   sellingprice                                 saledate  \n",
       "0         12500  Tue Jun 02 2015 02:30:00 GMT-0700 (PDT)  \n",
       "1         14500  Wed Feb 25 2015 02:00:00 GMT-0800 (PST)  \n",
       "2          9100  Wed Jun 10 2015 02:30:00 GMT-0700 (PDT)  \n",
       "3         13300  Wed Jun 17 2015 03:00:00 GMT-0700 (PDT)  \n",
       "4          1300  Tue Feb 03 2015 04:00:00 GMT-0800 (PST)  \n",
       "5         22600  Thu May 21 2015 02:00:00 GMT-0700 (PDT)  \n",
       "6          5900  Mon Jan 12 2015 09:30:00 GMT-0800 (PST)  \n",
       "7         15200  Tue Feb 03 2015 01:00:00 GMT-0800 (PST)  \n",
       "8           700  Thu Jan 22 2015 01:00:00 GMT-0800 (PST)  \n",
       "9           325  Tue Jun 16 2015 05:00:00 GMT-0700 (PDT)  "
      ]
     },
     "metadata": {},
     "output_type": "display_data"
    }
   ],
   "source": [
    "display(train.head(10))"
   ]
  },
  {
   "cell_type": "code",
   "execution_count": 4,
   "id": "c44beb48",
   "metadata": {},
   "outputs": [
    {
     "name": "stdout",
     "output_type": "stream",
     "text": [
      "<class 'pandas.core.frame.DataFrame'>\n",
      "RangeIndex: 440236 entries, 0 to 440235\n",
      "Data columns (total 15 columns):\n",
      " #   Column        Non-Null Count   Dtype  \n",
      "---  ------        --------------   -----  \n",
      " 0   year          440236 non-null  int64  \n",
      " 1   make          432193 non-null  object \n",
      " 2   model         432113 non-null  object \n",
      " 3   trim          431899 non-null  object \n",
      " 4   body          429843 non-null  object \n",
      " 5   transmission  388775 non-null  object \n",
      " 6   vin           440236 non-null  object \n",
      " 7   state         440236 non-null  object \n",
      " 8   condition     430831 non-null  float64\n",
      " 9   odometer      440167 non-null  float64\n",
      " 10  color         439650 non-null  object \n",
      " 11  interior      439650 non-null  object \n",
      " 12  seller        440236 non-null  object \n",
      " 13  sellingprice  440236 non-null  int64  \n",
      " 14  saledate      440236 non-null  object \n",
      "dtypes: float64(2), int64(2), object(11)\n",
      "memory usage: 50.4+ MB\n"
     ]
    }
   ],
   "source": [
    "train.info()"
   ]
  },
  {
   "cell_type": "code",
   "execution_count": 5,
   "id": "2f00b258",
   "metadata": {},
   "outputs": [
    {
     "data": {
      "text/html": [
       "<div>\n",
       "<style scoped>\n",
       "    .dataframe tbody tr th:only-of-type {\n",
       "        vertical-align: middle;\n",
       "    }\n",
       "\n",
       "    .dataframe tbody tr th {\n",
       "        vertical-align: top;\n",
       "    }\n",
       "\n",
       "    .dataframe thead th {\n",
       "        text-align: right;\n",
       "    }\n",
       "</style>\n",
       "<table border=\"1\" class=\"dataframe\">\n",
       "  <thead>\n",
       "    <tr style=\"text-align: right;\">\n",
       "      <th></th>\n",
       "      <th>year</th>\n",
       "      <th>condition</th>\n",
       "      <th>odometer</th>\n",
       "      <th>sellingprice</th>\n",
       "    </tr>\n",
       "  </thead>\n",
       "  <tbody>\n",
       "    <tr>\n",
       "      <th>count</th>\n",
       "      <td>440236.000000</td>\n",
       "      <td>430831.000000</td>\n",
       "      <td>440167.000000</td>\n",
       "      <td>440236.000000</td>\n",
       "    </tr>\n",
       "    <tr>\n",
       "      <th>mean</th>\n",
       "      <td>2010.040101</td>\n",
       "      <td>3.425077</td>\n",
       "      <td>68344.421604</td>\n",
       "      <td>13592.209588</td>\n",
       "    </tr>\n",
       "    <tr>\n",
       "      <th>std</th>\n",
       "      <td>3.977945</td>\n",
       "      <td>0.949973</td>\n",
       "      <td>53542.203908</td>\n",
       "      <td>9751.479098</td>\n",
       "    </tr>\n",
       "    <tr>\n",
       "      <th>min</th>\n",
       "      <td>1982.000000</td>\n",
       "      <td>1.000000</td>\n",
       "      <td>1.000000</td>\n",
       "      <td>1.000000</td>\n",
       "    </tr>\n",
       "    <tr>\n",
       "      <th>25%</th>\n",
       "      <td>2007.000000</td>\n",
       "      <td>2.700000</td>\n",
       "      <td>28258.000000</td>\n",
       "      <td>6900.000000</td>\n",
       "    </tr>\n",
       "    <tr>\n",
       "      <th>50%</th>\n",
       "      <td>2012.000000</td>\n",
       "      <td>3.600000</td>\n",
       "      <td>52098.000000</td>\n",
       "      <td>12100.000000</td>\n",
       "    </tr>\n",
       "    <tr>\n",
       "      <th>75%</th>\n",
       "      <td>2013.000000</td>\n",
       "      <td>4.200000</td>\n",
       "      <td>99272.000000</td>\n",
       "      <td>18200.000000</td>\n",
       "    </tr>\n",
       "    <tr>\n",
       "      <th>max</th>\n",
       "      <td>2015.000000</td>\n",
       "      <td>5.000000</td>\n",
       "      <td>999999.000000</td>\n",
       "      <td>230000.000000</td>\n",
       "    </tr>\n",
       "  </tbody>\n",
       "</table>\n",
       "</div>"
      ],
      "text/plain": [
       "                year      condition       odometer   sellingprice\n",
       "count  440236.000000  430831.000000  440167.000000  440236.000000\n",
       "mean     2010.040101       3.425077   68344.421604   13592.209588\n",
       "std         3.977945       0.949973   53542.203908    9751.479098\n",
       "min      1982.000000       1.000000       1.000000       1.000000\n",
       "25%      2007.000000       2.700000   28258.000000    6900.000000\n",
       "50%      2012.000000       3.600000   52098.000000   12100.000000\n",
       "75%      2013.000000       4.200000   99272.000000   18200.000000\n",
       "max      2015.000000       5.000000  999999.000000  230000.000000"
      ]
     },
     "execution_count": 5,
     "metadata": {},
     "output_type": "execute_result"
    }
   ],
   "source": [
    "train.describe()"
   ]
  },
  {
   "cell_type": "markdown",
   "id": "c384e300",
   "metadata": {},
   "source": [
    "- В данных есть пропуски, которые нужно будет заменить на какие-либо значения либо убрать строки с пропусками. Пропущенные значения содержаться в столбцах `make`, `model`, `trim`, `body`, `transmission`, `condition`, `odometer`, `color`, `interior`.\n",
    "- Колонка с датой `saledate` имеет неправильный тип данных, нужно будет привести ее к верному типу *datetime64[ns]*"
   ]
  },
  {
   "cell_type": "markdown",
   "id": "4b57c382",
   "metadata": {},
   "source": [
    "### Обработка данных и приведение их к нужному типу"
   ]
  },
  {
   "cell_type": "markdown",
   "id": "22970146",
   "metadata": {},
   "source": [
    "#### Приведение всех записей к нижнему регистру и устранение неявных дубликатов"
   ]
  },
  {
   "cell_type": "markdown",
   "id": "2747e84b-fc18-46d2-859b-7ecb20c94f04",
   "metadata": {},
   "source": [
    "В задаче машинного обучения нам необходимо предоставить как можно более качественные данные, поэтому устранение дубликатов и приведение к нижнему регистру (что, по факту, тоже является устранением дублей) - важная часть подготовки данных."
   ]
  },
  {
   "cell_type": "code",
   "execution_count": 6,
   "id": "b028c013",
   "metadata": {},
   "outputs": [
    {
     "name": "stdout",
     "output_type": "stream",
     "text": [
      "Список уникальных значений в столбце `make` в train: ['acura', 'airstream', 'aston martin', 'audi', 'bentley', 'bmw', 'buick', 'cadillac', 'chevrolet', 'chrysler', 'daewoo', 'dodge', 'dodge tk', 'dot', 'ferrari', 'fiat', 'fisker', 'ford', 'ford truck', 'geo', 'gmc', 'gmc truck', 'honda', 'hummer', 'hyundai', 'infiniti', 'isuzu', 'jaguar', 'jeep', 'kia', 'lamborghini', 'land rover', 'landrover', 'lexus', 'lincoln', 'maserati', 'mazda', 'mazda tk', 'mercedes', 'mercedes-b', 'mercedes-benz', 'mercury', 'mini', 'mitsubishi', 'nan', 'nissan', 'oldsmobile', 'plymouth', 'pontiac', 'porsche', 'ram', 'rolls-royce', 'saab', 'saturn', 'scion', 'smart', 'subaru', 'suzuki', 'tesla', 'toyota', 'volkswagen', 'volvo', 'vw']\n",
      "\n",
      "Список уникальных значений в столбце `body` в train: ['access cab', 'beetle convertible', 'cab plus', 'cab plus 4', 'club cab', 'convertible', 'coupe', 'crew cab', 'crewmax cab', 'cts coupe', 'cts wagon', 'cts-v coupe', 'cts-v wagon', 'double cab', 'e-series van', 'elantra coupe', 'extended cab', 'g convertible', 'g coupe', 'g sedan', 'g37 convertible', 'g37 coupe', 'genesis coupe', 'granturismo convertible', 'hatchback', 'king cab', 'koup', 'mega cab', 'minivan', 'nan', 'promaster cargo van', 'q60 convertible', 'q60 coupe', 'quad cab', 'ram van', 'regular cab', 'regular-cab', 'sedan', 'supercab', 'supercrew', 'suv', 'transit van', 'tsx sport wagon', 'van', 'wagon', 'xtracab']\n",
      "\n",
      "Список уникальных значений в столбце `transmission` в train: ['automatic', 'manual', 'nan']\n",
      "\n",
      "Список уникальных значений в столбце `state` в train: ['ab', 'al', 'az', 'ca', 'co', 'fl', 'ga', 'hi', 'il', 'in', 'la', 'ma', 'md', 'mi', 'mn', 'mo', 'ms', 'nc', 'ne', 'nj', 'nm', 'ns', 'nv', 'ny', 'oh', 'ok', 'on', 'or', 'pa', 'pr', 'qc', 'sc', 'tn', 'tx', 'ut', 'va', 'wa', 'wi']\n",
      "\n",
      "Список уникальных значений в столбце `color` в train: ['beige', 'black', 'blue', 'brown', 'burgundy', 'charcoal', 'gold', 'gray', 'green', 'lime', 'nan', 'off-white', 'orange', 'pink', 'purple', 'red', 'silver', 'turquoise', 'white', 'yellow', '—']\n",
      "\n",
      "Список уникальных значений в столбце `interior` в train: ['beige', 'black', 'blue', 'brown', 'burgundy', 'gold', 'gray', 'green', 'nan', 'off-white', 'orange', 'purple', 'red', 'silver', 'tan', 'white', 'yellow', '—']\n",
      "\n"
     ]
    }
   ],
   "source": [
    "categorical_columns = train.drop(columns=['saledate', 'vin']).select_dtypes(include=['object']).columns.tolist()\n",
    "\n",
    "#приведем все строковые значения к нижнему регистру    \n",
    "for column in categorical_columns:\n",
    "    train[column] = train[column].str.lower()\n",
    "    test[column] = test[column].str.lower()\n",
    "\n",
    "for column in categorical_columns:\n",
    "    if column != 'model' and column != 'trim' and column != 'seller':\n",
    "        print(f'Список уникальных значений в столбце `{column}` в train: {sorted([str(x) for x in train[column].unique()])}')\n",
    "        print()"
   ]
  },
  {
   "cell_type": "markdown",
   "id": "03548142",
   "metadata": {},
   "source": [
    "- В данных были обнаружены неявные дубликаты в разделе с маркой автомобиля. В таких значениях называлась марка автомобиля и какой-то индекс для этой марки, либо же использовались разные варианты записи названия автомобиля, например `vw` и `volkswagen`.\n",
    "- Также в столбцах с цветом `color` и интерьером `interior` были замечаны прочерки, которые свидетельствуют о незаполненнных значениях. В дальнейшем разберемся с этими пропусками."
   ]
  },
  {
   "cell_type": "code",
   "execution_count": 7,
   "id": "19d1c5bb",
   "metadata": {},
   "outputs": [],
   "source": [
    "replace_dict = {\n",
    "    'dodge tk': 'dodge', \n",
    "    'ford truck': 'ford', \n",
    "    'gmc truck': 'gmc', \n",
    "    'land rover': 'landrover', \n",
    "    'mazda tk': 'mazda', \n",
    "    'mercedes-b': 'mercedes', \n",
    "    'mercedes-benz': 'mercedes', \n",
    "    'vw': 'volkswagen'\n",
    "}\n",
    "\n",
    "train['make'] = train['make'].replace(replace_dict)\n",
    "test['make'] = test['make'].replace(replace_dict)\n",
    "\n",
    "train[\"color\"].replace('—', np.nan, inplace=True)\n",
    "train[\"interior\"].replace('—', np.nan, inplace=True)\n",
    "test[\"color\"].replace('—', np.nan, inplace=True)\n",
    "test[\"interior\"].replace('—', np.nan, inplace=True)"
   ]
  },
  {
   "cell_type": "code",
   "execution_count": 8,
   "id": "56b98274",
   "metadata": {},
   "outputs": [
    {
     "data": {
      "text/plain": [
       "0"
      ]
     },
     "execution_count": 8,
     "metadata": {},
     "output_type": "execute_result"
    }
   ],
   "source": [
    "#проверим на наличие явных дубликатов\n",
    "train.duplicated().sum()"
   ]
  },
  {
   "cell_type": "code",
   "execution_count": 9,
   "id": "b22da744",
   "metadata": {},
   "outputs": [
    {
     "name": "stdout",
     "output_type": "stream",
     "text": [
      "(440236, 15) (110058, 14)\n"
     ]
    }
   ],
   "source": [
    "#проверим размерность наших датасетов после преобразований\n",
    "print(train.shape, test.shape)"
   ]
  },
  {
   "cell_type": "markdown",
   "id": "b2e56cdb-e5be-46e8-aaf0-81558879c464",
   "metadata": {},
   "source": [
    "В задаче борьбы с дубликатами мы не взяли на себя ответственность редактировать и просматривать фичи с моделью (model), уровнем отделки (trim) и продавцом авто (seller), так как подобную информацию лучше брать у целевых специалистов ввиду частичной неполноты информации в открытом доступе."
   ]
  },
  {
   "cell_type": "markdown",
   "id": "b6a8bab8",
   "metadata": {},
   "source": [
    "**Промежуточные итоги**"
   ]
  },
  {
   "cell_type": "markdown",
   "id": "12e8a84c",
   "metadata": {},
   "source": [
    "Все строковые данные приведены к нижнему регистру, исправлены неявные дубликаты в записях, неявные пропуски обозначены явно для дальнейшей борьбы с ними, после преобразований проверена размерность данных с целью убедиться, что данные не потерялись."
   ]
  },
  {
   "cell_type": "markdown",
   "id": "998a33ad",
   "metadata": {},
   "source": [
    "#### Добавление столбцов по `saledate`"
   ]
  },
  {
   "cell_type": "code",
   "execution_count": 10,
   "id": "c5ac56fe",
   "metadata": {},
   "outputs": [],
   "source": [
    "for df in [train, test]:   \n",
    "    df['saledate'] = df['saledate'].str.slice(0, -15) # удалить последние 15 символов\n",
    "    df['saledate'] = pd.to_datetime(df['saledate'], format='%a %b %d %Y %H:%M:%S')\n",
    "    df['year_sale'] = df['saledate'].dt.year #год продажи\n",
    "    df['month'] = df['saledate'].dt.month #месяц\n",
    "    df['day'] = df['saledate'].dt.day #номер дня в месяце\n",
    "    df['day_of_week'] = df['saledate'].dt.dayofweek #день недели\n",
    "    df['time'] = df['saledate'].dt.time #время продажи \n",
    "    df['age'] = df['year_sale'] - df['year'] #возраст авто"
   ]
  },
  {
   "cell_type": "markdown",
   "id": "7d22a7c3",
   "metadata": {},
   "source": [
    "Привел `saledate` к правильному типу и добавил несколько синтетических признаков на основе этой колонки."
   ]
  },
  {
   "cell_type": "code",
   "execution_count": 11,
   "id": "ab00b66a",
   "metadata": {},
   "outputs": [
    {
     "data": {
      "text/plain": [
       "0         2015\n",
       "1         2015\n",
       "2         2015\n",
       "3         2015\n",
       "4         2015\n",
       "          ... \n",
       "440231    2015\n",
       "440232    2015\n",
       "440233    2015\n",
       "440234    2015\n",
       "440235    2015\n",
       "Name: year_sale, Length: 440236, dtype: int64"
      ]
     },
     "execution_count": 11,
     "metadata": {},
     "output_type": "execute_result"
    }
   ],
   "source": [
    "train.year_sale"
   ]
  },
  {
   "cell_type": "markdown",
   "id": "db325a59-56b7-4529-ac1c-03d0f9063c92",
   "metadata": {},
   "source": [
    "#### Добавление столбцов по vin-номеру"
   ]
  },
  {
   "cell_type": "code",
   "execution_count": 12,
   "id": "92612b90-e285-4119-93a9-54927dce1c11",
   "metadata": {},
   "outputs": [
    {
     "data": {
      "text/plain": [
       "0         2fmdk3jc4bba41556\n",
       "1         3fa6p0h75er208976\n",
       "2         3n1ab6ap4cl698412\n",
       "3         5grgn23u93h101360\n",
       "4         3fahp08z17r268380\n",
       "                ...        \n",
       "440231    knagm4ad4d5057805\n",
       "440232    wmwzc5c55ewp36517\n",
       "440233    wbaea53588cv90110\n",
       "440234    3c6ur5dl2eg243568\n",
       "440235    jn8as5mt9dw038107\n",
       "Name: vin, Length: 440236, dtype: object"
      ]
     },
     "execution_count": 12,
     "metadata": {},
     "output_type": "execute_result"
    }
   ],
   "source": [
    "train.vin"
   ]
  },
  {
   "cell_type": "markdown",
   "id": "b8e1daa2-24e7-4b81-b3ab-842e67b3a105",
   "metadata": {},
   "source": [
    "Я просмотрел значения каждого символа и цифры для VIN-номера. Вот такие у них значения: 1 символ - страна производства; 2-3 - компания производитель; 4-8 - цифры характеризующие модель, тип кузова, двигателя и т.д (у каждой фирмы они означают разное); 9 - контрольная цифра; 10 - год производства; 11 - код завода изготовителя; 12-17 - уникальный серийный номер автомобиля."
   ]
  },
  {
   "cell_type": "code",
   "execution_count": 13,
   "id": "a5e45b02-8faa-4616-b5b6-d8694d63ea27",
   "metadata": {},
   "outputs": [],
   "source": [
    "train['vin_country'] = train['vin'].str[0]\n",
    "test['vin_country'] = test['vin'].str[0]\n",
    "\n",
    "train['vin_make'] = train['vin'].str[1:3]\n",
    "test['vin_make'] = test['vin'].str[1:3]\n",
    "\n",
    "train['vin_year'] = train['vin'].str[9]\n",
    "test['vin_year'] = test['vin'].str[9]\n",
    "\n",
    "train['vin_manufacturer'] = train['vin'].str[10]\n",
    "test['vin_manufacturer'] = test['vin'].str[10]\n",
    "\n",
    "train['vin_4'] = train['vin'].str[3]\n",
    "test['vin_4'] = test['vin'].str[3]\n",
    "\n",
    "train['vin_5'] = train['vin'].str[4]\n",
    "test['vin_5'] = test['vin'].str[4]\n",
    "\n",
    "train['vin_6'] = train['vin'].str[5]\n",
    "test['vin_6'] = test['vin'].str[5]\n",
    "\n",
    "train['vin_7'] = train['vin'].str[6]\n",
    "test['vin_7'] = test['vin'].str[6]\n",
    "\n",
    "train['vin_8'] = train['vin'].str[7]\n",
    "test['vin_8'] = test['vin'].str[7]\n",
    "\n",
    "train['vin_control'] = train['vin'].str[8]\n",
    "test['vin_control'] = test['vin'].str[8]"
   ]
  },
  {
   "cell_type": "markdown",
   "id": "6b0ad4ac",
   "metadata": {},
   "source": [
    "### Обработка пропусков"
   ]
  },
  {
   "cell_type": "code",
   "execution_count": 14,
   "id": "0b55a3b8",
   "metadata": {},
   "outputs": [
    {
     "data": {
      "text/plain": [
       "<AxesSubplot:>"
      ]
     },
     "execution_count": 14,
     "metadata": {},
     "output_type": "execute_result"
    },
    {
     "data": {
      "image/png": "[encoded data removed]",
      "text/plain": [
       "<Figure size 1800x720 with 3 Axes>"
      ]
     },
     "metadata": {},
     "output_type": "display_data"
    }
   ],
   "source": [
    "sns.set()\n",
    "msno.bar(train)"
   ]
  },
  {
   "cell_type": "markdown",
   "id": "d34ef108",
   "metadata": {},
   "source": [
    "Число пропусков менее 15%, однако еще непонятна природа пропусков."
   ]
  },
  {
   "cell_type": "code",
   "execution_count": 15,
   "id": "166911cf",
   "metadata": {},
   "outputs": [
    {
     "data": {
      "text/plain": [
       "<AxesSubplot:>"
      ]
     },
     "execution_count": 15,
     "metadata": {},
     "output_type": "execute_result"
    },
    {
     "data": {
      "image/png": "[encoded data removed]",
      "text/plain": [
       "<Figure size 1800x720 with 2 Axes>"
      ]
     },
     "metadata": {},
     "output_type": "display_data"
    }
   ],
   "source": [
    "msno.matrix(train)"
   ]
  },
  {
   "cell_type": "markdown",
   "id": "4adb0a17",
   "metadata": {},
   "source": [
    "Как мы видим, пропуски в `color` и `interior` согласуются друг с другом. А также, если есть пропуск в `make`, то будут пропуски в `model`, `trim` и `body`. Для определения зависимости между пропущенными значениями из разных столбцов применим `матрицу корреляции пропущенных значений`."
   ]
  },
  {
   "cell_type": "code",
   "execution_count": 16,
   "id": "b0b04ad7",
   "metadata": {},
   "outputs": [
    {
     "data": {
      "text/html": [
       "<div>\n",
       "<style scoped>\n",
       "    .dataframe tbody tr th:only-of-type {\n",
       "        vertical-align: middle;\n",
       "    }\n",
       "\n",
       "    .dataframe tbody tr th {\n",
       "        vertical-align: top;\n",
       "    }\n",
       "\n",
       "    .dataframe thead th {\n",
       "        text-align: right;\n",
       "    }\n",
       "</style>\n",
       "<table border=\"1\" class=\"dataframe\">\n",
       "  <thead>\n",
       "    <tr style=\"text-align: right;\">\n",
       "      <th></th>\n",
       "      <th>make</th>\n",
       "      <th>model</th>\n",
       "      <th>trim</th>\n",
       "      <th>body</th>\n",
       "      <th>transmission</th>\n",
       "      <th>condition</th>\n",
       "      <th>odometer</th>\n",
       "      <th>color</th>\n",
       "      <th>interior</th>\n",
       "    </tr>\n",
       "  </thead>\n",
       "  <tbody>\n",
       "    <tr>\n",
       "      <th>make</th>\n",
       "      <td>1.000000</td>\n",
       "      <td>0.994971</td>\n",
       "      <td>0.981875</td>\n",
       "      <td>0.877313</td>\n",
       "      <td>0.023535</td>\n",
       "      <td>-0.012414</td>\n",
       "      <td>0.001002</td>\n",
       "      <td>-0.016600</td>\n",
       "      <td>0.005818</td>\n",
       "    </tr>\n",
       "    <tr>\n",
       "      <th>model</th>\n",
       "      <td>0.994971</td>\n",
       "      <td>1.000000</td>\n",
       "      <td>0.976931</td>\n",
       "      <td>0.872853</td>\n",
       "      <td>0.023140</td>\n",
       "      <td>-0.012553</td>\n",
       "      <td>0.000980</td>\n",
       "      <td>-0.015603</td>\n",
       "      <td>0.006597</td>\n",
       "    </tr>\n",
       "    <tr>\n",
       "      <th>trim</th>\n",
       "      <td>0.981875</td>\n",
       "      <td>0.976931</td>\n",
       "      <td>1.000000</td>\n",
       "      <td>0.893508</td>\n",
       "      <td>0.022742</td>\n",
       "      <td>-0.006351</td>\n",
       "      <td>0.003585</td>\n",
       "      <td>-0.017063</td>\n",
       "      <td>0.007753</td>\n",
       "    </tr>\n",
       "    <tr>\n",
       "      <th>body</th>\n",
       "      <td>0.877313</td>\n",
       "      <td>0.872853</td>\n",
       "      <td>0.893508</td>\n",
       "      <td>1.000000</td>\n",
       "      <td>0.023568</td>\n",
       "      <td>0.026693</td>\n",
       "      <td>0.006419</td>\n",
       "      <td>-0.019970</td>\n",
       "      <td>0.018575</td>\n",
       "    </tr>\n",
       "    <tr>\n",
       "      <th>transmission</th>\n",
       "      <td>0.023535</td>\n",
       "      <td>0.023140</td>\n",
       "      <td>0.022742</td>\n",
       "      <td>0.023568</td>\n",
       "      <td>1.000000</td>\n",
       "      <td>0.020664</td>\n",
       "      <td>0.010129</td>\n",
       "      <td>-0.013961</td>\n",
       "      <td>0.041571</td>\n",
       "    </tr>\n",
       "    <tr>\n",
       "      <th>condition</th>\n",
       "      <td>-0.012414</td>\n",
       "      <td>-0.012553</td>\n",
       "      <td>-0.006351</td>\n",
       "      <td>0.026693</td>\n",
       "      <td>0.020664</td>\n",
       "      <td>1.000000</td>\n",
       "      <td>0.059642</td>\n",
       "      <td>-0.022841</td>\n",
       "      <td>0.354749</td>\n",
       "    </tr>\n",
       "    <tr>\n",
       "      <th>odometer</th>\n",
       "      <td>0.001002</td>\n",
       "      <td>0.000980</td>\n",
       "      <td>0.003585</td>\n",
       "      <td>0.006419</td>\n",
       "      <td>0.010129</td>\n",
       "      <td>0.059642</td>\n",
       "      <td>1.000000</td>\n",
       "      <td>0.003345</td>\n",
       "      <td>0.029612</td>\n",
       "    </tr>\n",
       "    <tr>\n",
       "      <th>color</th>\n",
       "      <td>-0.016600</td>\n",
       "      <td>-0.015603</td>\n",
       "      <td>-0.017063</td>\n",
       "      <td>-0.019970</td>\n",
       "      <td>-0.013961</td>\n",
       "      <td>-0.022841</td>\n",
       "      <td>0.003345</td>\n",
       "      <td>1.000000</td>\n",
       "      <td>-0.003714</td>\n",
       "    </tr>\n",
       "    <tr>\n",
       "      <th>interior</th>\n",
       "      <td>0.005818</td>\n",
       "      <td>0.006597</td>\n",
       "      <td>0.007753</td>\n",
       "      <td>0.018575</td>\n",
       "      <td>0.041571</td>\n",
       "      <td>0.354749</td>\n",
       "      <td>0.029612</td>\n",
       "      <td>-0.003714</td>\n",
       "      <td>1.000000</td>\n",
       "    </tr>\n",
       "  </tbody>\n",
       "</table>\n",
       "</div>"
      ],
      "text/plain": [
       "                  make     model      trim      body  transmission  condition  \\\n",
       "make          1.000000  0.994971  0.981875  0.877313      0.023535  -0.012414   \n",
       "model         0.994971  1.000000  0.976931  0.872853      0.023140  -0.012553   \n",
       "trim          0.981875  0.976931  1.000000  0.893508      0.022742  -0.006351   \n",
       "body          0.877313  0.872853  0.893508  1.000000      0.023568   0.026693   \n",
       "transmission  0.023535  0.023140  0.022742  0.023568      1.000000   0.020664   \n",
       "condition    -0.012414 -0.012553 -0.006351  0.026693      0.020664   1.000000   \n",
       "odometer      0.001002  0.000980  0.003585  0.006419      0.010129   0.059642   \n",
       "color        -0.016600 -0.015603 -0.017063 -0.019970     -0.013961  -0.022841   \n",
       "interior      0.005818  0.006597  0.007753  0.018575      0.041571   0.354749   \n",
       "\n",
       "              odometer     color  interior  \n",
       "make          0.001002 -0.016600  0.005818  \n",
       "model         0.000980 -0.015603  0.006597  \n",
       "trim          0.003585 -0.017063  0.007753  \n",
       "body          0.006419 -0.019970  0.018575  \n",
       "transmission  0.010129 -0.013961  0.041571  \n",
       "condition     0.059642 -0.022841  0.354749  \n",
       "odometer      1.000000  0.003345  0.029612  \n",
       "color         0.003345  1.000000 -0.003714  \n",
       "interior      0.029612 -0.003714  1.000000  "
      ]
     },
     "execution_count": 16,
     "metadata": {},
     "output_type": "execute_result"
    }
   ],
   "source": [
    "train[['make', 'model', 'trim', 'body', 'transmission', 'condition', 'odometer', 'color', 'interior']].isnull().corr()"
   ]
  },
  {
   "cell_type": "markdown",
   "id": "e832426f",
   "metadata": {},
   "source": [
    "Как видно из матрицы корреляции пропущенных значений `make`, `model`, `trim`, `body` очень сильно коррелируют друг с другом. Следовательно, мы можем заполнить пропуски в `make` на основе `vin`-номера и после с помощью группировки заполнять значения в коррелирующих столбцах. То же самое касается и `color`, `interior`."
   ]
  },
  {
   "cell_type": "code",
   "execution_count": 17,
   "id": "0e47db27",
   "metadata": {},
   "outputs": [
    {
     "data": {
      "text/plain": [
       "year                    0\n",
       "make                 8043\n",
       "model                8123\n",
       "trim                 8337\n",
       "body                10393\n",
       "transmission        51461\n",
       "vin                     0\n",
       "state                   0\n",
       "condition            9405\n",
       "odometer               69\n",
       "color               20106\n",
       "interior            14149\n",
       "seller                  0\n",
       "sellingprice            0\n",
       "saledate                0\n",
       "year_sale               0\n",
       "month                   0\n",
       "day                     0\n",
       "day_of_week             0\n",
       "time                    0\n",
       "age                     0\n",
       "vin_country             0\n",
       "vin_make                0\n",
       "vin_year                0\n",
       "vin_manufacturer        0\n",
       "vin_4                   0\n",
       "vin_5                   0\n",
       "vin_6                   0\n",
       "vin_7                   0\n",
       "vin_8                   0\n",
       "vin_control             0\n",
       "dtype: int64"
      ]
     },
     "metadata": {},
     "output_type": "display_data"
    },
    {
     "data": {
      "text/plain": [
       "year                    0\n",
       "make                 2061\n",
       "model                2079\n",
       "trim                 2114\n",
       "body                 2594\n",
       "transmission        13011\n",
       "vin                     0\n",
       "state                   0\n",
       "condition            2379\n",
       "odometer               19\n",
       "color                5106\n",
       "interior             3538\n",
       "seller                  0\n",
       "saledate                0\n",
       "year_sale               0\n",
       "month                   0\n",
       "day                     0\n",
       "day_of_week             0\n",
       "time                    0\n",
       "age                     0\n",
       "vin_country             0\n",
       "vin_make                0\n",
       "vin_year                0\n",
       "vin_manufacturer        0\n",
       "vin_4                   0\n",
       "vin_5                   0\n",
       "vin_6                   0\n",
       "vin_7                   0\n",
       "vin_8                   0\n",
       "vin_control             0\n",
       "dtype: int64"
      ]
     },
     "metadata": {},
     "output_type": "display_data"
    }
   ],
   "source": [
    "display(train.isna().sum())\n",
    "display(test.isna().sum())"
   ]
  },
  {
   "cell_type": "markdown",
   "id": "dbe5cb84",
   "metadata": {},
   "source": [
    "#### Обработка категориальных пропусков"
   ]
  },
  {
   "cell_type": "markdown",
   "id": "11201e85-91bd-4971-abec-7d07eb6ce5ab",
   "metadata": {},
   "source": [
    "Заполним пропуски в колонке `make` на основе самых популярных значений в сгруппированных по `vin_make` данных."
   ]
  },
  {
   "cell_type": "code",
   "execution_count": 18,
   "id": "fd9892f7-b9ae-42d2-8150-52e17d8ba62e",
   "metadata": {},
   "outputs": [],
   "source": [
    "# Подсчитываем наиболее часто встречающиеся значения \"make\" для каждого значения \"vin_make\" в тестовом датафрейме\n",
    "mode_dict = train.groupby('vin_make')['make'].agg(lambda x: x.mode()[0] if not x.mode().empty else np.nan).to_dict()\n",
    "\n",
    "# Функция для заполнения пропусков\n",
    "def fill_na_with_mode(df, column_to_fill, group_column, mode_dict):\n",
    "    for group in df[group_column].drop_duplicates().values:\n",
    "        mask = (df[group_column] == group) & (df[column_to_fill].isna())\n",
    "        df.loc[mask, column_to_fill] = mode_dict.get(group, np.nan)\n",
    "\n",
    "# Применяем функцию для обоих датафреймов\n",
    "fill_na_with_mode(train, 'make', 'vin_make', mode_dict)\n",
    "fill_na_with_mode(test, 'make', 'vin_make', mode_dict)"
   ]
  },
  {
   "cell_type": "code",
   "execution_count": 19,
   "id": "c8cfe996",
   "metadata": {},
   "outputs": [],
   "source": [
    "mask = train[['model', 'trim', 'body']].isna().all(axis=1)\n",
    "train.loc[mask, ['model', 'trim', 'body']] = 'Unknown'\n",
    "\n",
    "mask = test[['model', 'trim', 'body']].isna().all(axis=1)\n",
    "test.loc[mask, ['model', 'trim', 'body']] = 'Unknown'"
   ]
  },
  {
   "cell_type": "code",
   "execution_count": 20,
   "id": "eb0ea6a6",
   "metadata": {},
   "outputs": [],
   "source": [
    "cols_to_impute = ['make', 'model', 'trim', 'color', 'interior']\n",
    "\n",
    "simple_imputer = SimpleImputer(strategy='most_frequent')\n",
    "\n",
    "train[cols_to_impute] = simple_imputer.fit_transform(train[cols_to_impute])\n",
    "test[cols_to_impute] = simple_imputer.transform(test[cols_to_impute])"
   ]
  },
  {
   "cell_type": "markdown",
   "id": "8758c5c1",
   "metadata": {},
   "source": [
    "Заполним пропуски в `body` и `transmission` с помощью группировки по марке и модели автомобиля."
   ]
  },
  {
   "cell_type": "code",
   "execution_count": 21,
   "id": "e5c8677f",
   "metadata": {},
   "outputs": [],
   "source": [
    "def fill_na_with_mode(train, test, column, group_columns=['make', 'model']):\n",
    "    mode_dict = train.groupby(group_columns)[column].agg(lambda x: x.mode()[0] if not x.mode().empty else np.nan).to_dict()\n",
    "\n",
    "    for df in [train, test]:\n",
    "        for group in df[group_columns].drop_duplicates().values:\n",
    "            mask = (df[group_columns[0]] == group[0]) & (df[group_columns[1]] == group[1]) & (df[column].isna())\n",
    "            df.loc[mask, column] = mode_dict.get(tuple(group), np.nan)\n",
    "\n",
    "# Применим функцию\n",
    "fill_na_with_mode(train, test, 'body')\n",
    "fill_na_with_mode(train, test, 'transmission')\n",
    "\n",
    "simple_imputer.fit(train[['body','transmission']])\n",
    "\n",
    "# Используем обученный imputer для заполнения оставшихся пропусков в обоих датафреймах\n",
    "for df in [train, test]:\n",
    "    df[['body','transmission']] = simple_imputer.transform(df[['body','transmission']])\n",
    "    "
   ]
  },
  {
   "cell_type": "markdown",
   "id": "ee846558",
   "metadata": {},
   "source": [
    "#### Числовые пропуски"
   ]
  },
  {
   "cell_type": "code",
   "execution_count": 22,
   "id": "879507dc",
   "metadata": {},
   "outputs": [],
   "source": [
    "num_to_input = ['condition', 'odometer']\n",
    "\n",
    "knn = KNNImputer(n_neighbors=3)\n",
    "\n",
    "train[num_to_input] = knn.fit_transform(train[num_to_input])\n",
    "test[num_to_input] = knn.transform(test[num_to_input])"
   ]
  },
  {
   "cell_type": "code",
   "execution_count": 23,
   "id": "e316de18",
   "metadata": {},
   "outputs": [
    {
     "data": {
      "text/plain": [
       "'Число пропусков в каждом столбце (Train): '"
      ]
     },
     "metadata": {},
     "output_type": "display_data"
    },
    {
     "data": {
      "text/plain": [
       "year                0\n",
       "make                0\n",
       "model               0\n",
       "trim                0\n",
       "body                0\n",
       "transmission        0\n",
       "vin                 0\n",
       "state               0\n",
       "condition           0\n",
       "odometer            0\n",
       "color               0\n",
       "interior            0\n",
       "seller              0\n",
       "sellingprice        0\n",
       "saledate            0\n",
       "year_sale           0\n",
       "month               0\n",
       "day                 0\n",
       "day_of_week         0\n",
       "time                0\n",
       "age                 0\n",
       "vin_country         0\n",
       "vin_make            0\n",
       "vin_year            0\n",
       "vin_manufacturer    0\n",
       "vin_4               0\n",
       "vin_5               0\n",
       "vin_6               0\n",
       "vin_7               0\n",
       "vin_8               0\n",
       "vin_control         0\n",
       "dtype: int64"
      ]
     },
     "metadata": {},
     "output_type": "display_data"
    },
    {
     "name": "stdout",
     "output_type": "stream",
     "text": [
      "\n"
     ]
    },
    {
     "data": {
      "text/plain": [
       "'Число пропусков в каждом столбце (Train): '"
      ]
     },
     "metadata": {},
     "output_type": "display_data"
    },
    {
     "data": {
      "text/plain": [
       "year                0\n",
       "make                0\n",
       "model               0\n",
       "trim                0\n",
       "body                0\n",
       "transmission        0\n",
       "vin                 0\n",
       "state               0\n",
       "condition           0\n",
       "odometer            0\n",
       "color               0\n",
       "interior            0\n",
       "seller              0\n",
       "saledate            0\n",
       "year_sale           0\n",
       "month               0\n",
       "day                 0\n",
       "day_of_week         0\n",
       "time                0\n",
       "age                 0\n",
       "vin_country         0\n",
       "vin_make            0\n",
       "vin_year            0\n",
       "vin_manufacturer    0\n",
       "vin_4               0\n",
       "vin_5               0\n",
       "vin_6               0\n",
       "vin_7               0\n",
       "vin_8               0\n",
       "vin_control         0\n",
       "dtype: int64"
      ]
     },
     "metadata": {},
     "output_type": "display_data"
    }
   ],
   "source": [
    "display('Число пропусков в каждом столбце (Train): ')\n",
    "display(train.isna().sum())\n",
    "print()\n",
    "display('Число пропусков в каждом столбце (Train): ')\n",
    "display(test.isna().sum())"
   ]
  },
  {
   "cell_type": "markdown",
   "id": "f245fc0d-e44e-44bd-84ee-ed6d640b2c11",
   "metadata": {},
   "source": [
    "#### Итоги по предобработке данных"
   ]
  },
  {
   "cell_type": "markdown",
   "id": "9846ae78",
   "metadata": {},
   "source": [
    "В итоге, мы смогли избавиться от всех категориальных и числовых пропусков в тренировочных и тестовых данных с помощью метода группировки, заполнения модой и метода ближайших соседей. Сначала мы обучали наши алгоритмы на тренировочных данных, а потом применяли их к тренировочным и тестовым данным. Это мы сделали для того, чтобы избежать утечки данных из тестового датасета в тренировочный, тем самым защитили нашу модель от переобучения."
   ]
  },
  {
   "cell_type": "markdown",
   "id": "0b2fe33f",
   "metadata": {},
   "source": [
    "### Анализ на мультиколлениарность"
   ]
  },
  {
   "cell_type": "code",
   "execution_count": 24,
   "id": "e9d06e31",
   "metadata": {},
   "outputs": [
    {
     "data": {
      "image/png": "[encoded data removed]",
      "text/plain": [
       "<Figure size 720x720 with 2 Axes>"
      ]
     },
     "metadata": {},
     "output_type": "display_data"
    }
   ],
   "source": [
    "fig, ax = plt.subplots(figsize=(10,10))\n",
    "ax.set_title('`Train` данные')\n",
    "upp_mat = np.triu(train.corr())\n",
    "sns.heatmap(train.corr(), vmin = -1, vmax = +1, annot = True, mask = upp_mat, ax=ax, linewidth=.5, fmt=\".1f\")\n",
    "plt.show()"
   ]
  },
  {
   "cell_type": "code",
   "execution_count": 25,
   "id": "5f282bcb",
   "metadata": {},
   "outputs": [],
   "source": [
    "test_catboost = test.copy()"
   ]
  },
  {
   "cell_type": "markdown",
   "id": "230eb58a",
   "metadata": {},
   "source": [
    "В данных была замечена мультиколлениарность, однако в в этом проекте мы будем работать в основном с деревянными моделями и бустингами, следовательно, для них мультиколлениарность в данных не страшна."
   ]
  },
  {
   "cell_type": "markdown",
   "id": "ec12ef93",
   "metadata": {},
   "source": [
    "### Построение модели "
   ]
  },
  {
   "cell_type": "code",
   "execution_count": 26,
   "id": "bad93b31",
   "metadata": {},
   "outputs": [],
   "source": [
    "array_of_drop_columns = [\n",
    "    'sellingprice', 'saledate', 'vin'\n",
    "    ]\n",
    "\n",
    "X = train.drop(columns=array_of_drop_columns)\n",
    "y = train.sellingprice\n",
    "\n",
    "X_train, X_val, y_train, y_val = train_test_split(\n",
    "    X, y, random_state=12345, test_size=0.20\n",
    ")"
   ]
  },
  {
   "cell_type": "markdown",
   "id": "0eb01eeb",
   "metadata": {},
   "source": [
    "#### Кодирование признаков"
   ]
  },
  {
   "cell_type": "code",
   "execution_count": 27,
   "id": "0651a2ab",
   "metadata": {},
   "outputs": [],
   "source": [
    "warnings.filterwarnings(\"ignore\")\n",
    "\n",
    "number_columns = X.select_dtypes(include=['number']).columns.tolist()\n",
    "object_columns = X.select_dtypes(include=['object']).columns.tolist()\n",
    "\n",
    "#кодировка числовых признаков\n",
    "standart_scaler = StandardScaler()\n",
    "X_train[number_columns] = standart_scaler.fit_transform(X_train[number_columns])\n",
    "X_val[number_columns] = standart_scaler.transform(X_val[number_columns])\n",
    "test[number_columns] = standart_scaler.transform(test[number_columns])\n",
    "\n",
    "#кодировка категориальных признаков\n",
    "ordinal_encoder = OrdinalEncoder(handle_unknown='use_encoded_value', unknown_value=-1)\n",
    "X_train[object_columns] = ordinal_encoder.fit_transform(X_train[object_columns])\n",
    "X_val[object_columns] = ordinal_encoder.transform(X_val[object_columns])\n",
    "test[object_columns] = ordinal_encoder.transform(test[object_columns])"
   ]
  },
  {
   "cell_type": "markdown",
   "id": "22319a2e",
   "metadata": {},
   "source": [
    "#### Модель линейной регрессии"
   ]
  },
  {
   "cell_type": "code",
   "execution_count": 28,
   "id": "3e792285",
   "metadata": {},
   "outputs": [
    {
     "name": "stdout",
     "output_type": "stream",
     "text": [
      "MAPE линейной регрессии для тренировочного сэмпла: 0.682\n"
     ]
    }
   ],
   "source": [
    "linear_model = LinearRegression()\n",
    "linear_model.fit(X_train, y_train)\n",
    "\n",
    "l_predict_train = linear_model.predict(X_val)\n",
    "l_score = MAPE(y_val, l_predict_train) \n",
    "print(f'MAPE линейной регрессии для тренировочного сэмпла: {l_score:.3f}')"
   ]
  },
  {
   "cell_type": "code",
   "execution_count": 29,
   "id": "771cdb29",
   "metadata": {},
   "outputs": [],
   "source": [
    "#предсказываем\n",
    "answers = pd.DataFrame()\n",
    "answers['sellingprice'] = linear_model.predict(test.drop(columns=['saledate', 'vin']))"
   ]
  },
  {
   "cell_type": "markdown",
   "id": "fc8fc506",
   "metadata": {},
   "source": [
    "#### Дерево решений"
   ]
  },
  {
   "cell_type": "code",
   "execution_count": 30,
   "id": "68b3b737",
   "metadata": {
    "scrolled": true
   },
   "outputs": [
    {
     "name": "stdout",
     "output_type": "stream",
     "text": [
      "MAPE для дерева решений: 0.210\n",
      "DecisionTreeRegressor(max_depth=20, random_state=12345)\n"
     ]
    }
   ],
   "source": [
    "tree_model = None\n",
    "tree_MAPE = 100000000000000000\n",
    "\n",
    "for depth in range(10, 100, 10):\n",
    "    model = DecisionTreeRegressor(max_depth=depth, random_state=12345)\n",
    "    model.fit(X_train, y_train)\n",
    "        \n",
    "    predictions = model.predict(X_val)\n",
    "    score = MAPE(y_val, predictions)\n",
    "        \n",
    "    if tree_MAPE > score:\n",
    "        tree_model = model\n",
    "        tree_MAPE = score\n",
    "        \n",
    "print(f'MAPE для дерева решений: {tree_MAPE:.3f}')\n",
    "print(tree_model)\n",
    "depth = tree_model.tree_.max_depth"
   ]
  },
  {
   "cell_type": "code",
   "execution_count": 31,
   "id": "35543f50",
   "metadata": {},
   "outputs": [],
   "source": [
    "tree_predict = tree_model.predict(test.drop(columns=['saledate', 'vin']))\n",
    "answers['sellingprice'] = tree_predict"
   ]
  },
  {
   "cell_type": "raw",
   "id": "b12cee76-8691-4c99-8027-2eec8e9dc688",
   "metadata": {},
   "source": [
    "#создание csv-файла\n",
    "#answers.to_csv('tree_predict.csv', index=False)"
   ]
  },
  {
   "cell_type": "markdown",
   "id": "4869c2bc",
   "metadata": {},
   "source": [
    "#### Лес решений"
   ]
  },
  {
   "cell_type": "code",
   "execution_count": 32,
   "id": "6610af2a",
   "metadata": {},
   "outputs": [
    {
     "name": "stdout",
     "output_type": "stream",
     "text": [
      "MAPE для леса решений: 0.174\n",
      "RandomForestRegressor(max_depth=20, n_estimators=40, random_state=12345)\n",
      "Wall time: 6min 43s\n"
     ]
    }
   ],
   "source": [
    "%%time\n",
    "\n",
    "forest_model = None\n",
    "forest_MAPE = 100000000000000000\n",
    "\n",
    "'''for depth in range(10, 50, 5):'''\n",
    "for n_est in range(10, 50, 10):\n",
    "    model = RandomForestRegressor(max_depth=depth, n_estimators=n_est, random_state=12345)\n",
    "    model.fit(X_train, y_train)\n",
    "    \n",
    "    predictions = model.predict(X_val)\n",
    "    score = MAPE(y_val, predictions)\n",
    "    \n",
    "    if forest_MAPE > score:\n",
    "        forest_model = model\n",
    "        forest_MAPE = score\n",
    "print(f'MAPE для леса решений: {forest_MAPE:.3f}')\n",
    "print(forest_model)"
   ]
  },
  {
   "cell_type": "code",
   "execution_count": 33,
   "id": "c58155a6",
   "metadata": {},
   "outputs": [],
   "source": [
    "forest_predict = forest_model.predict(test.drop(columns=['saledate', 'vin']))\n",
    "answers['sellingprice'] = forest_predict"
   ]
  },
  {
   "cell_type": "raw",
   "id": "dfdc5bd7-7070-4e1d-b5c4-0772d843d001",
   "metadata": {},
   "source": [
    "#создание csv-файла\n",
    "#answers.to_csv('forest_predict.csv', index=False)"
   ]
  },
  {
   "cell_type": "markdown",
   "id": "222e8e52",
   "metadata": {},
   "source": [
    "#### Catboost"
   ]
  },
  {
   "cell_type": "code",
   "execution_count": 34,
   "id": "b4479e23",
   "metadata": {},
   "outputs": [],
   "source": [
    "array_of_drop_columns = [\n",
    "    'sellingprice', 'saledate', 'vin', 'time'\n",
    "    ]\n",
    "\n",
    "X = train.drop(columns=array_of_drop_columns)\n",
    "y = train.sellingprice\n",
    "category_columns = X.select_dtypes(include=['object']).columns.tolist()\n",
    "\n",
    "X_train, X_validation, y_train, y_validation = train_test_split(\n",
    "    X, y, random_state=12345, test_size=0.2\n",
    ")\n",
    "\n",
    "train_pool = Pool(data=X_train, label=y_train, cat_features = category_columns)\n",
    "validation_pool = Pool(data=X_validation, label=y_validation, cat_features = category_columns)"
   ]
  },
  {
   "cell_type": "code",
   "execution_count": 35,
   "id": "890d257f",
   "metadata": {},
   "outputs": [
    {
     "data": {
      "application/vnd.jupyter.widget-view+json": {
       "model_id": "24c3778f15b5429d85f591f9387c0063",
       "version_major": 2,
       "version_minor": 0
      },
      "text/plain": [
       "MetricVisualizer(layout=Layout(align_self='stretch', height='500px'))"
      ]
     },
     "metadata": {},
     "output_type": "display_data"
    },
    {
     "name": "stdout",
     "output_type": "stream",
     "text": [
      "Model is fitted: True\n",
      "Model params:\n",
      "{'iterations': 1000, 'learning_rate': 0.3, 'loss_function': 'RMSE', 'random_seed': 12345, 'use_best_model': True, 'eval_metric': 'MAPE'}\n",
      "Wall time: 13min 2s\n"
     ]
    }
   ],
   "source": [
    "%%time\n",
    "model = CatBoostRegressor(\n",
    "    iterations=1000,\n",
    "    learning_rate=0.3,\n",
    "    eval_metric='MAPE',\n",
    "    use_best_model=True, \n",
    "    random_seed=12345\n",
    ")\n",
    "model.fit(\n",
    "    train_pool, \n",
    "    eval_set=validation_pool, \n",
    "    verbose=False,\n",
    "    plot=True\n",
    ")\n",
    "\n",
    "print('Model is fitted: {}'.format(model.is_fitted()))\n",
    "print('Model params:\\n{}'.format(model.get_params()))"
   ]
  },
  {
   "cell_type": "code",
   "execution_count": 36,
   "id": "701f9767",
   "metadata": {},
   "outputs": [
    {
     "name": "stdout",
     "output_type": "stream",
     "text": [
      "Tree count: 1000\n"
     ]
    }
   ],
   "source": [
    "print('Tree count: ' + str(model.tree_count_))"
   ]
  },
  {
   "cell_type": "code",
   "execution_count": 37,
   "id": "bebc64ea",
   "metadata": {},
   "outputs": [
    {
     "name": "stdout",
     "output_type": "stream",
     "text": [
      "{'learn': {'MAPE': 0.2062588724435361, 'RMSE': 1655.6596907402259}, 'validation': {'MAPE': 0.1536605554648422, 'RMSE': 1697.6737004503623}}\n"
     ]
    }
   ],
   "source": [
    "print(model.get_best_score())"
   ]
  },
  {
   "cell_type": "code",
   "execution_count": 38,
   "id": "c41cc8f1",
   "metadata": {},
   "outputs": [],
   "source": [
    "X_test = test_catboost.drop(columns=['saledate', 'vin', 'time'])\n",
    "test_pool = Pool(data=X_test, cat_features=category_columns)\n",
    "catboost_predict = model.predict(test_pool)\n",
    "answers['sellingprice'] = catboost_predict"
   ]
  },
  {
   "cell_type": "markdown",
   "id": "58c58635",
   "metadata": {},
   "source": [
    "## Подведение итогов"
   ]
  },
  {
   "cell_type": "markdown",
   "id": "9501a7ae",
   "metadata": {},
   "source": [
    "Наиболее выдающиеся результаты показала модель, работающая на Catboost. На валидации ее результат составил 0.17, что превосходит модель линейной регрессии, дерева решений и леса решений."
   ]
  },
  {
   "cell_type": "markdown",
   "id": "44d2880b",
   "metadata": {},
   "source": [
    "Посмотрим на фичи, которые модель сочла важными:"
   ]
  },
  {
   "cell_type": "code",
   "execution_count": 39,
   "id": "42c1b328",
   "metadata": {},
   "outputs": [
    {
     "data": {
      "image/png": "[encoded data removed]",
      "text/plain": [
       "<Figure size 432x288 with 1 Axes>"
      ]
     },
     "metadata": {},
     "output_type": "display_data"
    }
   ],
   "source": [
    "# Получение важности признаков\n",
    "feature_importance = model.get_feature_importance(prettified=True)\n",
    "\n",
    "# Создание графика\n",
    "plt.barh(feature_importance['Feature Id'], feature_importance['Importances'])\n",
    "plt.xlabel('Importance')\n",
    "plt.ylabel('Feature')\n",
    "plt.title('Feature Importance')\n",
    "plt.show()"
   ]
  },
  {
   "cell_type": "markdown",
   "id": "62eaac13",
   "metadata": {},
   "source": [
    "- Наиболее весомый вклад внёс пробег, далее модель, марка, страна производства, год выпуска.\n",
    "- Практически не внесли вклад: год продажи, день выпуска авто, день недели выпуска авто."
   ]
  },
  {
   "cell_type": "markdown",
   "id": "fdc74666-bf32-48b6-b765-326486273bea",
   "metadata": {},
   "source": [
    "### Общий вывод и рекомендации:"
   ]
  },
  {
   "cell_type": "markdown",
   "id": "bd911f69-6017-4369-a0e0-11c7236f3850",
   "metadata": {},
   "source": [
    "**Рекомендации**:\n",
    "1) Внести с помощью специалиста в данной отрасли в базу данных реально существующие категории, которые можно выбирать при заполнении анкеты на продажу авто в избежание появления дубликатов в данных и, как следствие, ухудшения предсказательной способности модели;\n",
    "2) Осуществлять обязательную автоматическую проверку введенных данных путем пробития по базам;\n",
    "3) Сбор обязательный сбор персональных данных продавцов во избежание мошенничества, так как в данных были замечены аномально низкие цены, которые могут вводить в заблуждение юзеров приложения;\n",
    "4) Для улучшения качества модели можно добавить в анкету такие фичи как примерное количество ремонтов, есть ли неисправности, какие неисправности, последняя дата ТО, был ли какой-то самостоятельный тюнинг авто и какой. Все эти характеристики помогут с большей точностью определять реальную стоимость автомобиля.\n",
    "5) Проконсультироваться со специалистом для составления большего числа фич, которые помогут понять нашей модели цену авто.\n",
    "\n",
    "**Вывод**:\n",
    "\n",
    "Наша модель показала неплохие результаты в 15% ошибки при определении стоимости подержанного авто, при этом определив, что на цену в большей степени влияют пробег, модель, марка, страна производства и год выпуска авто. Отсюда можно сделать вывод, что при дальнейшей работе нашей системы необходим тщательный контроль за этими показателями при составлении анкеты. \n",
    "\n",
    "Также можно создать не просто рекомендуюмую цену для выставляемой машины, а ввести диапазон, только в пределах которого продавец может указывать свою цену, но для этого необходимо добавить еще дополнительный категории (число ремонтов, неисправности и т.д. Если же впоследствии от покупателя поступит жалоба, что он сильно переплатил за свой автомобиль, так как он не соответствует заявленным характеристикам, то с нашей стороны необходимо будет заблокировать продавца за недобросовестность. Таким образом, мы сможем минимизировать риски мошенничества на нашей площадке и увеличить уровень качества предоставляемых нами услуг."
   ]
  }
 ],
 "metadata": {
  "kernelspec": {
   "display_name": "Python 3 (ipykernel)",
   "language": "python",
   "name": "python3"
  },
  "language_info": {
   "codemirror_mode": {
    "name": "ipython",
    "version": 3
   },
   "file_extension": ".py",
   "mimetype": "text/x-python",
   "name": "python",
   "nbconvert_exporter": "python",
   "pygments_lexer": "ipython3",
   "version": "3.9.5"
  },
  "toc": {
   "base_numbering": 1,
   "nav_menu": {},
   "number_sections": true,
   "sideBar": true,
   "skip_h1_title": true,
   "title_cell": "Table of Contents",
   "title_sidebar": "Contents",
   "toc_cell": true,
   "toc_position": {},
   "toc_section_display": true,
   "toc_window_display": false
  }
 },
 "nbformat": 4,
 "nbformat_minor": 5
}
